{
 "cells": [
  {
   "cell_type": "markdown",
   "metadata": {},
   "source": [
    "## Compare classic CNN with quantum-classic CNN on CIRAF-10 dataset"
   ]
  },
  {
   "cell_type": "code",
   "execution_count": 1,
   "metadata": {},
   "outputs": [
    {
     "name": "stderr",
     "output_type": "stream",
     "text": [
      "/home/jacek/ingenii/venv/lib/python3.8/site-packages/tqdm/auto.py:21: TqdmWarning: IProgress not found. Please update jupyter and ipywidgets. See https://ipywidgets.readthedocs.io/en/stable/user_install.html\n",
      "  from .autonotebook import tqdm as notebook_tqdm\n"
     ]
    },
    {
     "name": "stdout",
     "output_type": "stream",
     "text": [
      "CUDA available: False\n"
     ]
    }
   ],
   "source": [
    "import torch\n",
    "import numpy as np\n",
    "\n",
    "use_cuda = torch.cuda.is_available()\n",
    "print(f\"CUDA available: {use_cuda}\")"
   ]
  },
  {
   "cell_type": "code",
   "execution_count": 3,
   "metadata": {},
   "outputs": [
    {
     "name": "stdout",
     "output_type": "stream",
     "text": [
      "Files already downloaded and verified\n",
      "Files already downloaded and verified\n"
     ]
    }
   ],
   "source": [
    "# Load dataset\n",
    "\n",
    "import random\n",
    "from torchvision import datasets\n",
    "import torchvision.transforms as transforms\n",
    "from torch.utils.data.sampler import SubsetRandomSampler\n",
    "\n",
    "random.seed(42)\n",
    "\n",
    "batch_size = 16\n",
    "valid_size = 0.2\n",
    "\n",
    "transform = transforms.Compose([\n",
    "    transforms.ToTensor(),\n",
    "    transforms.Normalize((0.5, 0.5, 0.5), (0.5, 0.5, 0.5))\n",
    "])\n",
    "\n",
    "train_data = datasets.CIFAR10('data', train=True, download=True, transform=transform)\n",
    "test_data = datasets.CIFAR10('data', train=False, download=True, transform=transform)\n",
    "\n",
    "\n",
    "num_train = len(train_data)\n",
    "indices = list(range(num_train))\n",
    "np.random.shuffle(indices)\n",
    "split = int(np.floor(valid_size * num_train))\n",
    "train_idx, valid_idx = indices[split:], indices[:split]\n",
    "\n",
    "train_sampler = SubsetRandomSampler(train_idx)\n",
    "valid_sampler = SubsetRandomSampler(valid_idx)\n",
    "\n",
    "train_loader = torch.utils.data.DataLoader(train_data, batch_size=batch_size, sampler=train_sampler)\n",
    "valid_loader = torch.utils.data.DataLoader(train_data, batch_size=batch_size, sampler=valid_sampler)\n",
    "test_loader = torch.utils.data.DataLoader(test_data, batch_size=batch_size)\n",
    "\n",
    "classes = ['airplane', 'automobile', 'bird', 'cat', 'deer', 'dog', 'frog', 'horse', 'ship', 'truck']"
   ]
  },
  {
   "cell_type": "code",
   "execution_count": 4,
   "metadata": {},
   "outputs": [],
   "source": [
    "# Create classic model architecture\n",
    "\n",
    "import torch.nn as nn\n",
    "import torch.nn.functional as F\n",
    "import torch.optim as optim\n",
    "from ingenii_quantum_fork.hybrid_networks.layers import QuantumLayer2D\n",
    "\n",
    "class CNN(nn.Module):\n",
    "\n",
    "    CHANNELS = [32, 64, 128, 128, 256, 256]\n",
    "\n",
    "    def __init__(self, quantum=False):\n",
    "        super(CNN, self).__init__()\n",
    "        self.quantum = quantum\n",
    "\n",
    "        self.conv1 = nn.Conv2d(in_channels=3, out_channels=self.CHANNELS[0], kernel_size=3, padding=1)\n",
    "        self.conv2 = nn.Conv2d(in_channels=self.CHANNELS[0], out_channels=self.CHANNELS[1], kernel_size=3, padding=1)\n",
    "        self.conv3 = nn.Conv2d(in_channels=self.CHANNELS[1], out_channels=self.CHANNELS[2], kernel_size=3, padding=1)\n",
    "        self.conv4 = nn.Conv2d(in_channels=self.CHANNELS[2], out_channels=self.CHANNELS[3], kernel_size=3, padding=1)\n",
    "        self.conv5 = nn.Conv2d(in_channels=self.CHANNELS[3], out_channels=self.CHANNELS[4], kernel_size=3, padding=1)\n",
    "        self.conv6 = nn.Conv2d(in_channels=self.CHANNELS[4], out_channels=self.CHANNELS[5], kernel_size=3, padding=1)\n",
    "\n",
    "        self.quantum_layer = QuantumLayer2D(\n",
    "            shape=(4, 4), num_filters=2, gates_name='G3', num_gates=300, num_features=32, tol=1e-6, stride=1, shots=409)\n",
    "\n",
    "        self.bn1 = nn.BatchNorm2d(self.CHANNELS[0])\n",
    "        self.bn3 = nn.BatchNorm2d(self.CHANNELS[2])\n",
    "        self.bn5 = nn.BatchNorm2d(self.CHANNELS[4])\n",
    "\n",
    "        self.pool = nn.MaxPool2d(kernel_size=2, stride=2)\n",
    "\n",
    "        self.fc1 = nn.Linear(4096, 1024)\n",
    "        self.fc2 = nn.Linear(1024, 512)\n",
    "        self.fc3 = nn.Linear(512, 10)\n",
    "\n",
    "        self.drop = nn.Dropout(p=0.5)\n",
    "\n",
    "    def forward(self, x):\n",
    "        if self.quantum and x.dim() == 1:\n",
    "            x = x.unsqueeze(-1)\n",
    "\n",
    "        x = F.relu(self.bn1(self.conv1(x)))\n",
    "        if self.quantum:\n",
    "            quantum_conv = self.quantum_layer(x)\n",
    "            conv = F.relu(self.conv2(x))\n",
    "            x = self.pool(conv + quantum_conv)\n",
    "        else:\n",
    "            x = self.pool(F.relu(self.conv2(x)))\n",
    "        x = F.relu(self.bn3(self.conv3(x)))\n",
    "        x = self.pool(F.relu(self.conv4(x)))\n",
    "        x = F.relu(self.bn5(self.conv5(x)))\n",
    "        x = self.pool(F.relu(self.conv6(x)))\n",
    "\n",
    "        x = x.view(x.size(0), -1)\n",
    "\n",
    "        x = self.drop(x)\n",
    "        x = F.relu(self.fc1(x))\n",
    "        x = F.relu(self.fc2(x))\n",
    "        x = self.drop(x)\n",
    "        x = self.fc3(x)\n",
    "\n",
    "        return x\n",
    "\n",
    "\n",
    "model = CNN(quantum=False)\n",
    "if use_cuda:\n",
    "    model.cuda()\n",
    "\n",
    "criterion = nn.CrossEntropyLoss()\n",
    "optimizer = optim.SGD(model.parameters(), lr=.001)"
   ]
  },
  {
   "cell_type": "code",
   "execution_count": null,
   "metadata": {},
   "outputs": [],
   "source": [
    "# Train and test model\n",
    "\n",
    "n_epochs = 30\n",
    "valid_loss_min = np.Inf\n",
    "\n",
    "for epoch in range(1, n_epochs + 1):\n",
    "\n",
    "    train_loss = 0.0\n",
    "    valid_loss = 0.0\n",
    "    valid_acc = 0.0\n",
    "    \n",
    "    model.train()\n",
    "    for data, target in train_loader:\n",
    "        if use_cuda:\n",
    "            data, target = data.cuda(), target.cuda()\n",
    "        optimizer.zero_grad()\n",
    "        output = model(data)\n",
    "        loss = criterion(output, target)\n",
    "        loss.backward()\n",
    "        optimizer.step()\n",
    "        train_loss += loss.item()*data.size(0)\n",
    "\n",
    "    total = 0\n",
    "    model.eval()\n",
    "    for data, target in valid_loader:\n",
    "        if use_cuda:\n",
    "            data, target = data.cuda(), target.cuda()\n",
    "        output = model(data)\n",
    "        loss = criterion(output, target)\n",
    "        valid_loss += loss.item()*data.size(0)\n",
    "        _, predicted = torch.max(output.data, 1)\n",
    "        total += len(target)\n",
    "        valid_acc += (predicted == target).sum().item()\n",
    "    \n",
    "    train_loss = train_loss / len(train_loader.dataset)\n",
    "    valid_loss = valid_loss / len(valid_loader.dataset)\n",
    "    valid_acc = valid_acc / total\n",
    "\n",
    "    print('Epoch: {} \\tTraining Loss: {:.6f} \\tValidation Loss: {:.6f} \\tValidation Acc: {:.6f}'.format(\n",
    "        epoch, train_loss, valid_loss, valid_acc))\n",
    "\n",
    "total = 0\n",
    "test_acc = 0.0\n",
    "model.eval()\n",
    "for data, target in valid_loader:\n",
    "    if use_cuda:\n",
    "        data, target = data.cuda(), target.cuda()\n",
    "    output = model(data)\n",
    "    loss = criterion(output, target)\n",
    "    valid_loss += loss.item()*data.size(0)\n",
    "    _, predicted = torch.max(output.data, 1)\n",
    "    total += len(target)\n",
    "    test_acc += (predicted == target).sum().item()\n",
    "test_acc = test_acc / total\n",
    "print(\"Test accuracy: {:.6f}\".format(test_acc))\n",
    "\n"
   ]
  }
 ],
 "metadata": {
  "interpreter": {
   "hash": "c58478906ce1fc0a607b689ee2d5fd8667dca0c43c0c7c9ee9587ec5027787dd"
  },
  "kernelspec": {
   "display_name": "Python 3.8.10 ('venv': venv)",
   "language": "python",
   "name": "python3"
  },
  "language_info": {
   "codemirror_mode": {
    "name": "ipython",
    "version": 3
   },
   "file_extension": ".py",
   "mimetype": "text/x-python",
   "name": "python",
   "nbconvert_exporter": "python",
   "pygments_lexer": "ipython3",
   "version": "3.8.10"
  },
  "orig_nbformat": 4
 },
 "nbformat": 4,
 "nbformat_minor": 2
}
